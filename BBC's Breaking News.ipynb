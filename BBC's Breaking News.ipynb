{
 "cells": [
  {
   "cell_type": "markdown",
   "metadata": {},
   "source": [
    "# Sentiment Analysis vol. 3"
   ]
  },
  {
   "cell_type": "markdown",
   "metadata": {},
   "source": [
    "Sentiment analysis done on over 2k BBC's unlabeled news articles from 5 categories (business, entertainment, politics, sport and tech). The goal was to predict whether given article makes positive or negative impression about the topic on the reader. \n",
    "\n",
    "Method is based on Peak-End rule, where impression is created mostly by peak sentences and end sentences. Thus three vectors are created: <br><br>\n",
    "&emsp; (1) sentiment vector - each article is split into sentences using spaCy and then each sentence is categorized as negative, neutral or positive (-1, 0, 1)<br>\n",
    "&emsp; (2) decay vextor - last sentence has weight of 1 and every previous sentence has decreased weight by some small amount (default min: 0.8)<br>\n",
    "&emsp; (3) peak vector - vector of ones where position of extracted key sentences using BERT is marked by a float higher that 1 (default: 1.3)\n",
    "\n",
    "\n",
    "Three vectors are multiplied elementwise and then mean is applied. Result is scaled between 0 and 1. "
   ]
  },
  {
   "cell_type": "code",
   "execution_count": 1,
   "metadata": {},
   "outputs": [],
   "source": [
    "# read and preprocess articles -- OK\n",
    "\n",
    "# use spaCy to split articles into sentences -- OK\n",
    "\n",
    "# use spaCy to classify sentiments of the sentences -- OK\n",
    "\n",
    "# use BERT to extract peak sentences -- OK\n",
    "\n",
    "# create 3 vectors for sentences: -- OK\n",
    "#     neutral [0], positive [1] or negative [-1]\n",
    "#     reversed weight decay over time\n",
    "#     apply bigger weights to peak sentences\n",
    "\n",
    "# combine vectors into final result -- OK"
   ]
  },
  {
   "cell_type": "code",
   "execution_count": 36,
   "metadata": {},
   "outputs": [],
   "source": [
    "from transformers import pipeline\n",
    "from summarizer import Summarizer\n",
    "\n",
    "import glob\n",
    "import spacy\n",
    "from spacy.lang.en import English\n",
    "from spacytextblob.spacytextblob import SpacyTextBlob\n",
    "from sklearn.preprocessing import MinMaxScaler\n",
    "import numpy as np\n",
    "import pandas as pd\n",
    "import seaborn as sns\n",
    "import matplotlib.pyplot as plt\n",
    "from tqdm.notebook import tqdm"
   ]
  },
  {
   "cell_type": "code",
   "execution_count": 10,
   "metadata": {},
   "outputs": [],
   "source": [
    "PATH = 'bbc/**/**'"
   ]
  },
  {
   "cell_type": "code",
   "execution_count": 11,
   "metadata": {},
   "outputs": [],
   "source": [
    "# read and preprocess the artciles \n",
    "def read_articles(path):\n",
    "    \n",
    "    articles, topics = [], []\n",
    "    \n",
    "    for file in glob.glob(path, recursive=False):\n",
    "        assert file.endswith('.txt')\n",
    "        \n",
    "        topic = file.split('\\\\')[1]\n",
    "        topics.append(topic)\n",
    "        \n",
    "        with open(file, 'r') as f:\n",
    "            article = f.read()\n",
    "\n",
    "            article = article.replace('\\n', '')\n",
    "            article = article.replace(\"\\'\", '')                  \n",
    "            \n",
    "            articles.append(article)\n",
    "            \n",
    "    return tuple(articles), tuple(topics)"
   ]
  },
  {
   "cell_type": "code",
   "execution_count": 12,
   "metadata": {},
   "outputs": [],
   "source": [
    "articles, topics = read_articles(PATH)"
   ]
  },
  {
   "cell_type": "code",
   "execution_count": 13,
   "metadata": {},
   "outputs": [],
   "source": [
    "# split every article into list of sentences\n",
    "def split_articles(articles):\n",
    "    nlp = English()\n",
    "    sbd = nlp.add_pipe('sentencizer')\n",
    "    \n",
    "    article_sents = []\n",
    "    \n",
    "    for article in tqdm(articles):\n",
    "        doc = nlp(article)\n",
    "        sents = []\n",
    "        for sent in doc.sents:\n",
    "            sents.append(sent.text)\n",
    "            \n",
    "        article_sents.append(sents)\n",
    "\n",
    "    return tuple(article_sents)"
   ]
  },
  {
   "cell_type": "code",
   "execution_count": 14,
   "metadata": {},
   "outputs": [
    {
     "data": {
      "application/vnd.jupyter.widget-view+json": {
       "model_id": "91f96332c8864b71b96cf2f4d89316e3",
       "version_major": 2,
       "version_minor": 0
      },
      "text/plain": [
       "HBox(children=(HTML(value=''), FloatProgress(value=0.0, max=2225.0), HTML(value='')))"
      ]
     },
     "metadata": {},
     "output_type": "display_data"
    },
    {
     "name": "stdout",
     "output_type": "stream",
     "text": [
      "\n"
     ]
    }
   ],
   "source": [
    "article_sents = split_articles(articles)"
   ]
  },
  {
   "cell_type": "code",
   "execution_count": 4,
   "metadata": {},
   "outputs": [],
   "source": [
    "# class used to categorize senetnces and\n",
    "# acquire key sentences with extractive summarization using BERT\n",
    "class ArticleParser:\n",
    "    \n",
    "    def __init__(self):\n",
    "        self.nlp = spacy.load('en_core_web_sm')\n",
    "        self.nlp.add_pipe('spacytextblob')\n",
    "        self.summarizer = Summarizer()\n",
    "    \n",
    "    \n",
    "    # <sentiment analysis>\n",
    "    def analize_articles(self, articles): # list of articles\n",
    "        docs = [self.analize_article(article) for article in tqdm(articles)]\n",
    "        return docs\n",
    "    \n",
    "    def analize_article(self, article, return_docs=False):\n",
    "        if return_docs:\n",
    "            return [self.nlp(sent) for sent in article]\n",
    "        return [self.nlp(sent)._.polarity for sent in article]\n",
    "    # </sentiment analysis>\n",
    "    \n",
    "    \n",
    "    # <summarization>\n",
    "    def summarize_article(self, article):\n",
    "        return self.summarizer(article)\n",
    "    \n",
    "    def summarize_articles(self, articles): # text articles\n",
    "        summs = [self.summarize_article(article) for article in tqdm(articles)]\n",
    "        return summs\n",
    "    # </summarization>"
   ]
  },
  {
   "cell_type": "code",
   "execution_count": 5,
   "metadata": {},
   "outputs": [],
   "source": [
    "# function used to merge results into one object\n",
    "def merge_all(**kwargs):\n",
    "    renamed = {k: v for k, v in kwargs.items()}\n",
    "    return renamed"
   ]
  },
  {
   "cell_type": "code",
   "execution_count": 6,
   "metadata": {},
   "outputs": [],
   "source": [
    "class SentimentAnalyzer:\n",
    "    \n",
    "    def __init__(self, data, min_decay=0.8, peak_factor=1.2):\n",
    "        self.data = data\n",
    "        for key in ['summaries', 'article_sents', 'sentiments', 'topics']:\n",
    "            assert key in self.data.keys()\n",
    "        \n",
    "        self.min_decay = min_decay\n",
    "        self.peak_factor = peak_factor\n",
    "    \n",
    "    def score(self, index, decay_type='lin'): # exp\n",
    "        \n",
    "        # sentiment scores\n",
    "        sentiments = []\n",
    "        for value in self.data['sentiments'][index]:\n",
    "            if value < 0:\n",
    "                sentiments.append(-1)\n",
    "            elif value > 0:\n",
    "                sentiments.append(1)\n",
    "            else: sentiments.append(0)\n",
    "        \n",
    "        # decay factor\n",
    "        decay = self._decay(len(sentiments), decay_type=decay_type)\n",
    "        \n",
    "        # peak sentences\n",
    "        peaks = self._extract_peaks(self.data['article_sents'][index], self.data['summaries'][index])\n",
    "        \n",
    "        # calculate result\n",
    "        vector = sentiments*decay*peaks\n",
    "        score = np.sum(vector) / len(vector)\n",
    "        return score\n",
    "    \n",
    "    \n",
    "    def generate_scores(self):\n",
    "        scores = [self.score(index) for index in range(len(self.data['topics']))]\n",
    "        df = pd.DataFrame(zip(scores, self.data['topics']), columns=['Score', 'Topic'])\n",
    "        return df\n",
    "            \n",
    "    \n",
    "    def _decay(self, length, decay_type):\n",
    "        # linear decay\n",
    "        if decay_type == 'lin':\n",
    "            decay_rate = (1 - self.min_decay) / length\n",
    "            decays = [1-n*decay_rate for n in range(length)]\n",
    "            return np.array(decays[::-1])\n",
    "        \n",
    "        # exponential decay \n",
    "        elif decay_type == 'exp':\n",
    "            raise NotImplementedError('coming soon-ish ...')\n",
    "\n",
    "            \n",
    "    def _extract_peaks(self, article, summary):\n",
    "        peaks = np.ones((len(article)))\n",
    "        for idx, art in enumerate(article):\n",
    "            if art in summary:\n",
    "                # mark position of every sentence\n",
    "                peaks[idx] *= self.peak_factor\n",
    "        return peaks"
   ]
  },
  {
   "cell_type": "code",
   "execution_count": 131,
   "metadata": {
    "scrolled": true
   },
   "outputs": [],
   "source": [
    "# useful when rerunning script\n",
    "try: del parser\n",
    "except NameError: pass\n",
    "\n",
    "parser = ArticleParser()"
   ]
  },
  {
   "cell_type": "code",
   "execution_count": 15,
   "metadata": {
    "scrolled": true
   },
   "outputs": [
    {
     "data": {
      "application/vnd.jupyter.widget-view+json": {
       "model_id": "25dab5f318c14ba082ec409e45859f42",
       "version_major": 2,
       "version_minor": 0
      },
      "text/plain": [
       "HBox(children=(HTML(value=''), FloatProgress(value=0.0, max=2225.0), HTML(value='')))"
      ]
     },
     "metadata": {},
     "output_type": "display_data"
    },
    {
     "name": "stdout",
     "output_type": "stream",
     "text": [
      "\n"
     ]
    }
   ],
   "source": [
    "# eta. 5 mins\n",
    "sentiments = parser.analize_articles(article_sents)\n",
    "\n",
    "# eta. 110 mins\n",
    "summaries = parser.summarize_articles(articles)"
   ]
  },
  {
   "cell_type": "code",
   "execution_count": 2,
   "metadata": {},
   "outputs": [],
   "source": [
    "import pickle\n",
    "\n",
    "# with open('pickles/sentiments.pkl', 'wb') as fp:\n",
    "#     pickle.dump(sentiments, fp)\n",
    "    \n",
    "# with open('pickles/summaries.pkl', 'wb') as fp:\n",
    "#     pickle.dump(summaries, fp)"
   ]
  },
  {
   "cell_type": "code",
   "execution_count": 3,
   "metadata": {},
   "outputs": [],
   "source": [
    "with open('pickles/sentiments.pkl', 'rb') as fp:\n",
    "    sentiments = pickle.load(fp)\n",
    "    \n",
    "with open('pickles/summaries.pkl', 'rb') as fp:\n",
    "    summaries = pickle.load(fp)"
   ]
  },
  {
   "cell_type": "code",
   "execution_count": 15,
   "metadata": {},
   "outputs": [],
   "source": [
    "# merging all stuff into one object\n",
    "data = merge_all(articles=articles, topics=topics, article_sents=article_sents, sentiments=sentiments, summaries=summaries)"
   ]
  },
  {
   "cell_type": "code",
   "execution_count": 16,
   "metadata": {},
   "outputs": [],
   "source": [
    "analyzer = SentimentAnalyzer(data, min_decay=0.8, peak_factor=1.3)"
   ]
  },
  {
   "cell_type": "code",
   "execution_count": 17,
   "metadata": {},
   "outputs": [],
   "source": [
    "df = analyzer.generate_scores()"
   ]
  },
  {
   "cell_type": "code",
   "execution_count": 21,
   "metadata": {},
   "outputs": [
    {
     "name": "stdout",
     "output_type": "stream",
     "text": [
      "-0.6814\n",
      "1.028\n"
     ]
    }
   ],
   "source": [
    "print(df.Score.min())\n",
    "print(df.Score.max())"
   ]
  },
  {
   "cell_type": "code",
   "execution_count": 68,
   "metadata": {},
   "outputs": [
    {
     "data": {
      "image/png": "[encoded data removed]",
      "text/plain": [
       "<Figure size 360x360 with 1 Axes>"
      ]
     },
     "metadata": {
      "needs_background": "light"
     },
     "output_type": "display_data"
    }
   ],
   "source": [
    "sns.displot(df.Score, bins=40, kde=True).set(title='Distribution of Scores');"
   ]
  },
  {
   "cell_type": "code",
   "execution_count": 74,
   "metadata": {},
   "outputs": [
    {
     "name": "stdout",
     "output_type": "stream",
     "text": [
      "-0.5046620049460182 \n",
      " 0.9761288474569081\n"
     ]
    }
   ],
   "source": [
    "# custom scaling to prevent influence from outliers\n",
    "min_val = np.mean(df.Score.to_numpy()) - 3*np.std(df.Score.to_numpy())\n",
    "max_val = np.mean(df.Score.to_numpy()) + 3*np.std(df.Score.to_numpy())\n",
    "print(min_val, '\\n' ,max_val)"
   ]
  },
  {
   "cell_type": "code",
   "execution_count": 118,
   "metadata": {},
   "outputs": [],
   "source": [
    "def custom_scaler(X, min_val, max_val):\n",
    "    scaled = (X - min_val) / (max_val - min_val)\n",
    "    \n",
    "    # clip values between 0 and 1\n",
    "    for idx in range(len(scaled)):\n",
    "        if scaled[idx] < 0: \n",
    "            scaled[idx] = 0\n",
    "        elif scaled[idx] > 1: \n",
    "            scaled[idx] = 1\n",
    "    return scaled"
   ]
  },
  {
   "cell_type": "code",
   "execution_count": 119,
   "metadata": {},
   "outputs": [],
   "source": [
    "scaled = custom_scaler(df.Score.to_numpy(), min_val, max_val)"
   ]
  },
  {
   "cell_type": "code",
   "execution_count": 120,
   "metadata": {},
   "outputs": [
    {
     "data": {
      "image/png": "[encoded data removed]",
      "text/plain": [
       "<Figure size 360x360 with 1 Axes>"
      ]
     },
     "metadata": {
      "needs_background": "light"
     },
     "output_type": "display_data"
    }
   ],
   "source": [
    "sns.displot(scaled, bins=40, kde=True).set(title='Distribution of Scores');"
   ]
  },
  {
   "cell_type": "code",
   "execution_count": 122,
   "metadata": {},
   "outputs": [],
   "source": [
    "# assign string label\n",
    "def calculate_polarity(x, factor=0.5):\n",
    "    result = ['positive' if value > factor else 'negative' for value in x]\n",
    "    return result"
   ]
  },
  {
   "cell_type": "code",
   "execution_count": 123,
   "metadata": {},
   "outputs": [],
   "source": [
    "# scale results between [0, 1], however it is not the greatest solution \n",
    "# since articles have various lengths and there is no upper or bottom limit\n",
    "# of result calculated from 3 vectors\n",
    "df = df.assign(Scaled=scaled)\n",
    "pols = calculate_polarity(df['Scaled'])\n",
    "df = df.assign(Sentiment=pols)"
   ]
  },
  {
   "cell_type": "code",
   "execution_count": 124,
   "metadata": {},
   "outputs": [
    {
     "data": {
      "text/html": [
       "<div>\n",
       "<style scoped>\n",
       "    .dataframe tbody tr th:only-of-type {\n",
       "        vertical-align: middle;\n",
       "    }\n",
       "\n",
       "    .dataframe tbody tr th {\n",
       "        vertical-align: top;\n",
       "    }\n",
       "\n",
       "    .dataframe thead th {\n",
       "        text-align: right;\n",
       "    }\n",
       "</style>\n",
       "<table border=\"1\" class=\"dataframe\">\n",
       "  <thead>\n",
       "    <tr style=\"text-align: right;\">\n",
       "      <th></th>\n",
       "      <th>Score</th>\n",
       "      <th>Topic</th>\n",
       "      <th>Scaled</th>\n",
       "      <th>Sentiment</th>\n",
       "    </tr>\n",
       "  </thead>\n",
       "  <tbody>\n",
       "    <tr>\n",
       "      <th>1980</th>\n",
       "      <td>0.209754</td>\n",
       "      <td>tech</td>\n",
       "      <td>0.482456</td>\n",
       "      <td>negative</td>\n",
       "    </tr>\n",
       "    <tr>\n",
       "      <th>118</th>\n",
       "      <td>0.246077</td>\n",
       "      <td>business</td>\n",
       "      <td>0.506985</td>\n",
       "      <td>positive</td>\n",
       "    </tr>\n",
       "    <tr>\n",
       "      <th>457</th>\n",
       "      <td>0.136267</td>\n",
       "      <td>business</td>\n",
       "      <td>0.432829</td>\n",
       "      <td>negative</td>\n",
       "    </tr>\n",
       "    <tr>\n",
       "      <th>811</th>\n",
       "      <td>0.252593</td>\n",
       "      <td>entertainment</td>\n",
       "      <td>0.511385</td>\n",
       "      <td>positive</td>\n",
       "    </tr>\n",
       "    <tr>\n",
       "      <th>668</th>\n",
       "      <td>0.502407</td>\n",
       "      <td>entertainment</td>\n",
       "      <td>0.680089</td>\n",
       "      <td>positive</td>\n",
       "    </tr>\n",
       "    <tr>\n",
       "      <th>647</th>\n",
       "      <td>0.259306</td>\n",
       "      <td>entertainment</td>\n",
       "      <td>0.515919</td>\n",
       "      <td>positive</td>\n",
       "    </tr>\n",
       "    <tr>\n",
       "      <th>1279</th>\n",
       "      <td>0.165355</td>\n",
       "      <td>politics</td>\n",
       "      <td>0.452472</td>\n",
       "      <td>negative</td>\n",
       "    </tr>\n",
       "    <tr>\n",
       "      <th>950</th>\n",
       "      <td>0.195296</td>\n",
       "      <td>politics</td>\n",
       "      <td>0.472692</td>\n",
       "      <td>negative</td>\n",
       "    </tr>\n",
       "    <tr>\n",
       "      <th>1153</th>\n",
       "      <td>0.247810</td>\n",
       "      <td>politics</td>\n",
       "      <td>0.508155</td>\n",
       "      <td>positive</td>\n",
       "    </tr>\n",
       "    <tr>\n",
       "      <th>200</th>\n",
       "      <td>0.380622</td>\n",
       "      <td>business</td>\n",
       "      <td>0.597846</td>\n",
       "      <td>positive</td>\n",
       "    </tr>\n",
       "  </tbody>\n",
       "</table>\n",
       "</div>"
      ],
      "text/plain": [
       "         Score          Topic    Scaled Sentiment\n",
       "1980  0.209754           tech  0.482456  negative\n",
       "118   0.246077       business  0.506985  positive\n",
       "457   0.136267       business  0.432829  negative\n",
       "811   0.252593  entertainment  0.511385  positive\n",
       "668   0.502407  entertainment  0.680089  positive\n",
       "647   0.259306  entertainment  0.515919  positive\n",
       "1279  0.165355       politics  0.452472  negative\n",
       "950   0.195296       politics  0.472692  negative\n",
       "1153  0.247810       politics  0.508155  positive\n",
       "200   0.380622       business  0.597846  positive"
      ]
     },
     "execution_count": 124,
     "metadata": {},
     "output_type": "execute_result"
    }
   ],
   "source": [
    "df.sample(10)"
   ]
  },
  {
   "cell_type": "code",
   "execution_count": 125,
   "metadata": {},
   "outputs": [
    {
     "data": {
      "image/png": "[encoded data removed]",
      "text/plain": [
       "<Figure size 864x504 with 1 Axes>"
      ]
     },
     "metadata": {
      "needs_background": "light"
     },
     "output_type": "display_data"
    }
   ],
   "source": [
    "def plot_results(df):\n",
    "    grps = df.groupby('Topic')\n",
    "    labels, data = [], []\n",
    "    for _, grp in grps:\n",
    "        label = grp['Topic'].iloc[0]\n",
    "        total = len(grp)\n",
    "        positive = (grp['Sentiment'].value_counts()['positive'])\n",
    "        negative = (grp['Sentiment'].value_counts()['negative'])\n",
    "        data.append([positive, negative, total])\n",
    "        labels.append(label)\n",
    "    \n",
    "    data = np.array(data).T\n",
    "    fig, ax = plt.subplots(figsize=(12,7))\n",
    "    X = np.arange(5)\n",
    "    ax.bar(X + 0.00, data[0], color='lightgreen',     width=0.25, label='positive')\n",
    "    ax.bar(X + 0.25, data[1], color='lightcoral',     width=0.25, label='negative')\n",
    "    ax.bar(X + 0.50, data[2], color='lightsteelblue', width=0.25, label='total')\n",
    "    \n",
    "    ax.set_title('Distribution of predicted classes', size=16)\n",
    "    ax.set_xticks(X + 0.25)\n",
    "    ax.set_xticklabels(labels, size=14)\n",
    "    \n",
    "    for i, v in zip(X, data.T):\n",
    "        ax.text(i - 0.065, v[0] + 5, str(v[0]))\n",
    "        ax.text(i + 0.195, v[1] + 5, str(v[1]))\n",
    "        ax.text(i + 0.445, v[2] + 5, str(v[2]))\n",
    "    \n",
    "    fig.tight_layout()\n",
    "    ax.set_ylabel('Amount')\n",
    "    ax.legend()\n",
    "\n",
    "\n",
    "plot_results(df)"
   ]
  },
  {
   "cell_type": "markdown",
   "metadata": {},
   "source": [
    "### Examples"
   ]
  },
  {
   "cell_type": "code",
   "execution_count": 132,
   "metadata": {
    "scrolled": false
   },
   "outputs": [],
   "source": [
    "# function used to explore specific parts/results of the model\n",
    "def show_example(index):    \n",
    "    summary = parser.summarize_article(articles[index])\n",
    "    peaks = analyzer._extract_peaks(article_sents[index], summary)\n",
    "    no_peaks = np.count_nonzero(peaks==1.3)\n",
    "    \n",
    "    print('topic:\\t\\t\\t', topics[index])\n",
    "    print('total sentences:\\t', len(article_sents[index]))\n",
    "    print('extracted sentences:\\t', no_peaks)\n",
    "    v = df['Scaled'].iloc[index]\n",
    "    print('label:\\t\\t\\t', df['Sentiment'].iloc[index], f'({round(v, 2)})')\n",
    "    print('index:\\t\\t\\t', index)\n",
    "    print()\n",
    "    print()\n",
    "    print('\\t'*6+'**'*5+' SUMMARY '+'**'*5+'\\n')\n",
    "    print(summary)\n",
    "    print()\n",
    "    print()\n",
    "    print('\\t'*6+'**'*5+' ORIGINAL '+'**'*5+'\\n')\n",
    "    print(articles[index])\n",
    "    \n",
    "    doc = parser.analize_article(article_sents[index], return_docs=True)\n",
    "    print()\n",
    "    print()\n",
    "    print('\\t'*6+'**'*5+' POLARITY '+'**'*5)\n",
    "    print()\n",
    "    for sent in doc:\n",
    "        print(sent)\n",
    "        print('POLARITY:\\t', round(sent._.polarity, 2))\n",
    "        print('\\n'+'--'*60+'\\n')\n",
    "    print()\n",
    "    print()"
   ]
  },
  {
   "cell_type": "code",
   "execution_count": 136,
   "metadata": {},
   "outputs": [],
   "source": [
    "import random\n",
    "\n",
    "first  = random.randint(0, len(topics))\n",
    "second = random.randint(0, len(topics))"
   ]
  },
  {
   "cell_type": "code",
   "execution_count": 137,
   "metadata": {
    "scrolled": false
   },
   "outputs": [
    {
     "name": "stdout",
     "output_type": "stream",
     "text": [
      "topic:\t\t\t entertainment\n",
      "total sentences:\t 11\n",
      "extracted sentences:\t 3\n",
      "label:\t\t\t negative (0.45)\n",
      "index:\t\t\t 756\n",
      "\n",
      "\n",
      "\t\t\t\t\t\t********** SUMMARY **********\n",
      "\n",
      "Spears seeks aborted tour paymentSinger Britney Spears is suing eight insurance companies that have refused to reimburse her for cancelling her 2004 world tour. Seven London-based companies and an eighth Paris firm have been given up to 30 days to respond to the complaint. The 22-year-old star initially missed a number of shows on the 82-date tour after injuring her knee during a show in Illinois last March.\n",
      "\n",
      "\n",
      "\t\t\t\t\t\t********** ORIGINAL **********\n",
      "\n",
      "Spears seeks aborted tour paymentSinger Britney Spears is suing eight insurance companies that have refused to reimburse her for cancelling her 2004 world tour.The pop star cancelled her Onyx Hotel tour last June after suffering a knee injury during a video shoot. She is now seeking to be reimbursed for the tours ÂŁ5m ($9.3m) costs in a claim filed at New York State Supreme Court. Seven London-based companies and an eighth Paris firm have been given up to 30 days to respond to the complaint.The 22-year-old star initially missed a number of shows on the 82-date tour after injuring her knee during a show in Illinois last March. But she was rushed to hospital and needed surgery after a later incident while filming a video for her song Outrageous, leading her to cancel the rest of the tour, including dates in China. \"She obviously took a wrong step and blew out her knee,\" a Jive spokeswoman said at the time. \"It was an old dance injury.\" The legal submission described Spears as \"one of the most recognised performers in her industry\". The Onyx Hotel tour was cited as \"a highly crafted production which included the well-known music and dancing of Spears, supported by elaborate costumes, complex choreography as well as cutting-edge video production, lighting and other effects\". In September Spears married Kevin Federline, who had been a dancer on the aborted tour.\n",
      "\n",
      "\n",
      "\t\t\t\t\t\t********** POLARITY **********\n",
      "\n",
      "Spears seeks aborted tour paymentSinger Britney Spears is suing eight insurance companies that have refused to reimburse her for cancelling her 2004 world tour.\n",
      "POLARITY:\t 0.0\n",
      "\n",
      "------------------------------------------------------------------------------------------------------------------------\n",
      "\n",
      "The pop star cancelled her Onyx Hotel tour last June after suffering a knee injury during a video shoot.\n",
      "POLARITY:\t 0.0\n",
      "\n",
      "------------------------------------------------------------------------------------------------------------------------\n",
      "\n",
      "She is now seeking to be reimbursed for the tours ÂŁ5m ($9.3m) costs in a claim filed at New York State Supreme Court.\n",
      "POLARITY:\t 0.14\n",
      "\n",
      "------------------------------------------------------------------------------------------------------------------------\n",
      "\n",
      "Seven London-based companies and an eighth Paris firm have been given up to 30 days to respond to the complaint.\n",
      "POLARITY:\t -0.25\n",
      "\n",
      "------------------------------------------------------------------------------------------------------------------------\n",
      "\n",
      "The 22-year-old star initially missed a number of shows on the 82-date tour after injuring her knee during a show in Illinois last March.\n",
      "POLARITY:\t 0.0\n",
      "\n",
      "------------------------------------------------------------------------------------------------------------------------\n",
      "\n",
      "But she was rushed to hospital and needed surgery after a later incident while filming a video for her song Outrageous, leading her to cancel the rest of the tour, including dates in China. \"\n",
      "POLARITY:\t -0.5\n",
      "\n",
      "------------------------------------------------------------------------------------------------------------------------\n",
      "\n",
      "She obviously took a wrong step and blew out her knee,\" a Jive spokeswoman said at the time. \"\n",
      "POLARITY:\t -0.25\n",
      "\n",
      "------------------------------------------------------------------------------------------------------------------------\n",
      "\n",
      "It was an old dance injury.\"\n",
      "POLARITY:\t 0.1\n",
      "\n",
      "------------------------------------------------------------------------------------------------------------------------\n",
      "\n",
      "The legal submission described Spears as \"one of the most recognised performers in her industry\".\n",
      "POLARITY:\t 0.35\n",
      "\n",
      "------------------------------------------------------------------------------------------------------------------------\n",
      "\n",
      "The Onyx Hotel tour was cited as \"a highly crafted production which included the well-known music and dancing of Spears, supported by elaborate costumes, complex choreography as well as cutting-edge video production, lighting and other effects\".\n",
      "POLARITY:\t 0.06\n",
      "\n",
      "------------------------------------------------------------------------------------------------------------------------\n",
      "\n",
      "In September Spears married Kevin Federline, who had been a dancer on the aborted tour.\n",
      "POLARITY:\t 0.25\n",
      "\n",
      "------------------------------------------------------------------------------------------------------------------------\n",
      "\n",
      "\n",
      "\n"
     ]
    }
   ],
   "source": [
    "show_example(first)"
   ]
  },
  {
   "cell_type": "code",
   "execution_count": 138,
   "metadata": {
    "scrolled": false
   },
   "outputs": [
    {
     "name": "stdout",
     "output_type": "stream",
     "text": [
      "topic:\t\t\t politics\n",
      "total sentences:\t 15\n",
      "extracted sentences:\t 4\n",
      "label:\t\t\t positive (0.56)\n",
      "index:\t\t\t 1135\n",
      "\n",
      "\n",
      "\t\t\t\t\t\t********** SUMMARY **********\n",
      "\n",
      "Sport betting rules in spotlightA group of MPs and peers has called for a tightening of regulations controlling betting on sport. The all-party group recommended 15 ways to protect punters and improve the integrity of sports betting. Lord Faulkner of Worcester, who chaired the inquiry, said: \"Whilst we accept that the greater part of sports betting is neither corrupt nor unfair to punters, the evidence convinces us that the growth of betting exchanges - because of the facility they provide to bet against a result - has increased the potential for corruption. \" This means they can control their odds at winning by placing their money both ways.\n",
      "\n",
      "\n",
      "\t\t\t\t\t\t********** ORIGINAL **********\n",
      "\n",
      "Sport betting rules in spotlightA group of MPs and peers has called for a tightening of regulations controlling betting on sport.The Parliamentary Group on Betting and Gaming held a substantial inquiry into betting last year. It followed fears that a massive increase in betting on sport, such as that done using the internet and mobile phones, has led to more cheating. The all-party group recommended 15 ways to protect punters and improve the integrity of sports betting. They include a proposal for raising the maximum jail sentence for gambling cheats above the current two years. Lord Condon, head of the International Cricket Councils anti-corruption unit, who originally made the call for longer prison sentences, said the two-year penalty was \"derisory\". \"You could get a bigger sentence for failing to pay your hotel bill criminally than you could for corruption in major sports. \"Symbolically, a higher penalty, perhaps as the Bill passes through the two Houses, might be appropriate.\"The report recommended the governing bodies of sports have a say in the type of bets offered to punters, and for bookmakers to set up \"audit trails\" - something the new betting exchanges already do - to allow suspicious betting patterns to be traced.Lord Faulkner of Worcester, who chaired the inquiry, said: \"Whilst we accept that the greater part of sports betting is neither corrupt nor unfair to punters, the evidence convinces us that the growth of betting exchanges - because of the facility they provide to bet against a result - has increased the potential for corruption. \"It is important that the government works with sporting administrators to review the difficulties faced by governing bodies in convicting the guilty and penalising them appropriately.\" The panels aim was to try to define what constitutes cheating, assess how much might be going on and suggest what the government might do to put it right. As well as the growth of internet and mobile phone betting, there has been the creation of betting exchanges which allow punters to fix odds between themselves. Betting exchanges allow punters to back (to win) but also lay (to lose) a horse. This means they can control their odds at winning by placing their money both ways.\n",
      "\n",
      "\n",
      "\t\t\t\t\t\t********** POLARITY **********\n",
      "\n",
      "Sport betting rules in spotlightA group of MPs and peers has called for a tightening of regulations controlling betting on sport.\n",
      "POLARITY:\t 0.0\n",
      "\n",
      "------------------------------------------------------------------------------------------------------------------------\n",
      "\n",
      "The Parliamentary Group on Betting and Gaming held a substantial inquiry into betting last year.\n",
      "POLARITY:\t 0.0\n",
      "\n",
      "------------------------------------------------------------------------------------------------------------------------\n",
      "\n",
      "It followed fears that a massive increase in betting on sport, such as that done using the internet and mobile phones, has led to more cheating.\n",
      "POLARITY:\t 0.17\n",
      "\n",
      "------------------------------------------------------------------------------------------------------------------------\n",
      "\n",
      "The all-party group recommended 15 ways to protect punters and improve the integrity of sports betting.\n",
      "POLARITY:\t 0.0\n",
      "\n",
      "------------------------------------------------------------------------------------------------------------------------\n",
      "\n",
      "They include a proposal for raising the maximum jail sentence for gambling cheats above the current two years.\n",
      "POLARITY:\t -0.03\n",
      "\n",
      "------------------------------------------------------------------------------------------------------------------------\n",
      "\n",
      "Lord Condon, head of the International Cricket Councils anti-corruption unit, who originally made the call for longer prison sentences, said the two-year penalty was \"derisory\". \"\n",
      "POLARITY:\t 0.19\n",
      "\n",
      "------------------------------------------------------------------------------------------------------------------------\n",
      "\n",
      "You could get a bigger sentence for failing to pay your hotel bill criminally than you could for corruption in major sports. \"\n",
      "POLARITY:\t -0.11\n",
      "\n",
      "------------------------------------------------------------------------------------------------------------------------\n",
      "\n",
      "Symbolically, a higher penalty, perhaps as the Bill passes through the two Houses, might be appropriate.\n",
      "POLARITY:\t 0.38\n",
      "\n",
      "------------------------------------------------------------------------------------------------------------------------\n",
      "\n",
      "\"The report recommended the governing bodies of sports have a say in the type of bets offered to punters, and for bookmakers to set up \"audit trails\" - something the new betting exchanges already do - to allow suspicious betting patterns to be traced.\n",
      "POLARITY:\t 0.14\n",
      "\n",
      "------------------------------------------------------------------------------------------------------------------------\n",
      "\n",
      "Lord Faulkner of Worcester, who chaired the inquiry, said: \"Whilst we accept that the greater part of sports betting is neither corrupt nor unfair to punters, the evidence convinces us that the growth of betting exchanges - because of the facility they provide to bet against a result - has increased the potential for corruption. \"\n",
      "POLARITY:\t -0.12\n",
      "\n",
      "------------------------------------------------------------------------------------------------------------------------\n",
      "\n",
      "It is important that the government works with sporting administrators to review the difficulties faced by governing bodies in convicting the guilty and penalising them appropriately.\"\n",
      "POLARITY:\t 0.13\n",
      "\n",
      "------------------------------------------------------------------------------------------------------------------------\n",
      "\n",
      "The panels aim was to try to define what constitutes cheating, assess how much might be going on and suggest what the government might do to put it right.\n",
      "POLARITY:\t 0.24\n",
      "\n",
      "------------------------------------------------------------------------------------------------------------------------\n",
      "\n",
      "As well as the growth of internet and mobile phone betting, there has been the creation of betting exchanges which allow punters to fix odds between themselves.\n",
      "POLARITY:\t 0.0\n",
      "\n",
      "------------------------------------------------------------------------------------------------------------------------\n",
      "\n",
      "Betting exchanges allow punters to back (to win) but also lay (to lose) a horse.\n",
      "POLARITY:\t 0.4\n",
      "\n",
      "------------------------------------------------------------------------------------------------------------------------\n",
      "\n",
      "This means they can control their odds at winning by placing their money both ways.\n",
      "POLARITY:\t 0.5\n",
      "\n",
      "------------------------------------------------------------------------------------------------------------------------\n",
      "\n",
      "\n",
      "\n"
     ]
    }
   ],
   "source": [
    "show_example(second)"
   ]
  },
  {
   "cell_type": "code",
   "execution_count": null,
   "metadata": {},
   "outputs": [],
   "source": []
  }
 ],
 "metadata": {
  "kernelspec": {
   "display_name": "Python 3",
   "language": "python",
   "name": "python3"
  },
  "language_info": {
   "codemirror_mode": {
    "name": "ipython",
    "version": 3
   },
   "file_extension": ".py",
   "mimetype": "text/x-python",
   "name": "python",
   "nbconvert_exporter": "python",
   "pygments_lexer": "ipython3",
   "version": "3.6.3"
  }
 },
 "nbformat": 4,
 "nbformat_minor": 4
}
